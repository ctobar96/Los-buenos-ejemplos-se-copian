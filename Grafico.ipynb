{
 "cells": [
  {
   "cell_type": "markdown",
   "metadata": {},
   "source": [
    "# Reproducción de Visualizaciones del The Economist\n",
    "\n",
    "\n",
    "**Nombre:** Cristian Tobar Morales  \n",
    "**Asignatura:** Visualización de la información\n",
    "\n",
    "**Problema a resolver:**  \n",
    "Para esta tarea trataremos de reproducir dos visualizaciones del The Economist. Para ellos nos enfocaremos en imitar la paleta de colores que ocuparon, las visualizaciones y las anotaciones que incluyen en los gráficos, además de todos los otros detalles de título, subtítulo, etcétera.\n",
    "\n",
    "**Alcance:**  \n",
    "Este proyecto tiene fines académicos y está diseñado para mejorar nuestras habilidades de visualización de datos mediante la reproducción de visualizaciones publicadas por The Economist.\n",
    "\n",
    "**Objetivo:**\n",
    "El objetivo es replicar la paleta de colores, los tipos de gráficos, las anotaciones y otros detalles como títulos y subtítulos, siguiendo las prácticas y estándares de calidad de The Economist.\n"
   ]
  },
  {
   "cell_type": "markdown",
   "metadata": {},
   "source": [
    "#### Importar Librerías"
   ]
  },
  {
   "cell_type": "code",
   "execution_count": 1,
   "metadata": {},
   "outputs": [],
   "source": [
    "import pandas as pd\n",
    "import numpy as np\n",
    "import matplotlib.pyplot as plt\n",
    "import seaborn as sns\n",
    "\n",
    "from matplotlib.transforms import Affine2D\n",
    "from matplotlib.collections import PathCollection\n",
    "from mpl_toolkits.axisartist.grid_finder import DictFormatter\n",
    "import mpl_toolkits.axisartist.floating_axes as floating_axes"
   ]
  }
 ],
 "metadata": {
  "kernelspec": {
   "display_name": "proyecto",
   "language": "python",
   "name": "python3"
  },
  "language_info": {
   "codemirror_mode": {
    "name": "ipython",
    "version": 3
   },
   "file_extension": ".py",
   "mimetype": "text/x-python",
   "name": "python",
   "nbconvert_exporter": "python",
   "pygments_lexer": "ipython3",
   "version": "3.12.4"
  }
 },
 "nbformat": 4,
 "nbformat_minor": 2
}
